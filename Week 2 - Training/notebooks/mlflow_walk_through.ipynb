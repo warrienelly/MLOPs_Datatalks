{
 "cells": [
  {
   "cell_type": "code",
   "execution_count": 1,
   "metadata": {},
   "outputs": [],
   "source": [
    "import pandas as pd\n",
    "import pickle\n",
    "import os\n",
    "import matplotlib.pyplot as plt\n",
    "\n",
    "from sklearn.feature_extraction import DictVectorizer\n",
    "from sklearn.linear_model import LogisticRegression, LinearRegression, Lasso\n",
    "from sklearn.metrics import mean_squared_error\n",
    "\n",
    "import mlflow"
   ]
  },
  {
   "cell_type": "code",
   "execution_count": 2,
   "metadata": {},
   "outputs": [
    {
     "name": "stdout",
     "output_type": "stream",
     "text": [
      "mlflow.db                 mlflow_walk_through.ipynb \u001b[34mmlruns\u001b[m\u001b[m\n"
     ]
    }
   ],
   "source": [
    "!ls"
   ]
  },
  {
   "cell_type": "code",
   "execution_count": 3,
   "metadata": {},
   "outputs": [
    {
     "data": {
      "text/plain": [
       "'/Users/dsn/Downloads/MLOps_Zoomcamp/Week 2 - Training/notebooks'"
      ]
     },
     "execution_count": 3,
     "metadata": {},
     "output_type": "execute_result"
    }
   ],
   "source": [
    "# os.chdir('../')\n",
    "os.getcwd()"
   ]
  },
  {
   "cell_type": "code",
   "execution_count": 4,
   "metadata": {},
   "outputs": [
    {
     "data": {
      "text/plain": [
       "<Experiment: artifact_location='./mlruns/1', experiment_id='1', lifecycle_stage='active', name='nyc_taxi_experiment', tags={}>"
      ]
     },
     "execution_count": 4,
     "metadata": {},
     "output_type": "execute_result"
    }
   ],
   "source": [
    "mlflow.set_tracking_uri(\"sqlite:///mlflow.db\")\n",
    "mlflow.set_experiment(\"nyc_taxi_experiment\")"
   ]
  },
  {
   "cell_type": "code",
   "execution_count": 5,
   "metadata": {},
   "outputs": [],
   "source": [
    "# Specify the location of the file\n",
    "green_trip_data_Jan_2021 = '../data/green_tripdata_2021-01.parquet'\n",
    "green_trip_data_Feb_2021 = '../data/green_tripdata_2021-02.parquet'"
   ]
  },
  {
   "cell_type": "code",
   "execution_count": 11,
   "metadata": {},
   "outputs": [],
   "source": [
    "def read_dataframe(filename, pickup_time, drop_off_time, pu_id, do_id):\n",
    "    df = pd.read_parquet(filename)\n",
    "    df['duration'] = pd.to_datetime(df[drop_off_time]) - pd.to_datetime(df[pickup_time])  # calculate duration and convert to minutes\n",
    "    df['duration'] = df['duration'].apply(lambda td: td.total_seconds()/60)\n",
    " \n",
    "    df = df[((df.duration>=1) & (df.duration<=60))]       # filter to only duration within and less than hour\n",
    "\n",
    "    categorical = [pu_id, do_id]\n",
    "\n",
    "    df[categorical] = df_Jan[categorical].fillna(-1)\n",
    "    df[categorical] = df[categorical].astype(str)\n",
    "    return df"
   ]
  },
  {
   "cell_type": "code",
   "execution_count": 8,
   "metadata": {},
   "outputs": [
    {
     "data": {
      "text/plain": [
       "Index(['VendorID', 'lpep_pickup_datetime', 'lpep_dropoff_datetime',\n",
       "       'store_and_fwd_flag', 'RatecodeID', 'PULocationID', 'DOLocationID',\n",
       "       'passenger_count', 'trip_distance', 'fare_amount', 'extra', 'mta_tax',\n",
       "       'tip_amount', 'tolls_amount', 'ehail_fee', 'improvement_surcharge',\n",
       "       'total_amount', 'payment_type', 'trip_type', 'congestion_surcharge'],\n",
       "      dtype='object')"
      ]
     },
     "execution_count": 8,
     "metadata": {},
     "output_type": "execute_result"
    }
   ],
   "source": [
    "df_Jan.columns"
   ]
  },
  {
   "cell_type": "code",
   "execution_count": 14,
   "metadata": {},
   "outputs": [],
   "source": [
    "df_Jan = read_dataframe(green_trip_data_Jan_2021,\n",
    "                            pickup_time=\"lpep_pickup_datetime\",\n",
    "                            drop_off_time='lpep_dropoff_datetime',\n",
    "                            pu_id ='PULocationID',\n",
    "                            do_id='DOLocationID'\n",
    "                             )\n",
    "df_Feb = read_dataframe(green_trip_data_Feb_2021,\n",
    "                            pickup_time=\"lpep_pickup_datetime\",\n",
    "                            drop_off_time='lpep_dropoff_datetime',\n",
    "                            pu_id ='PULocationID',\n",
    "                            do_id='DOLocationID'\n",
    "                             )"
   ]
  },
  {
   "cell_type": "code",
   "execution_count": 29,
   "metadata": {},
   "outputs": [],
   "source": [
    "numerical = ['trip_distance']\n",
    "categorical= ['PULocationID', 'DOLocationID']\n",
    "\n",
    "dict_train = df_Jan[numerical + categorical].to_dict(orient='records')\n",
    "dict_eval = df_Feb[numerical + categorical].to_dict(orient='records')\n",
    "\n",
    "\n",
    "dv = DictVectorizer()\n",
    "X_train = dv.fit_transform(dict_train) #this returns a sparse cmr matrix\n",
    "X_eval = dv.transform(dict_eval)\n",
    "\n",
    "Y_train = df_Jan['duration'].values\n",
    "Y_eval = df_Feb['duration'].values\n"
   ]
  },
  {
   "cell_type": "code",
   "execution_count": 30,
   "metadata": {},
   "outputs": [
    {
     "data": {
      "text/plain": [
       "((73908, 507), (61921, 507))"
      ]
     },
     "execution_count": 30,
     "metadata": {},
     "output_type": "execute_result"
    }
   ],
   "source": [
    "X_train.shape, X_eval.shape"
   ]
  },
  {
   "cell_type": "code",
   "execution_count": 36,
   "metadata": {},
   "outputs": [],
   "source": [
    "# lr = LinearRegression()\n",
    "# lr.fit(X_train, Y_train)\n",
    "\n",
    "# Y_pred = lr.predict(X_train) # Make prediciton on the train\n",
    "# mean_squared_error(Y_train, Y_pred, squared=False)"
   ]
  },
  {
   "cell_type": "code",
   "execution_count": 37,
   "metadata": {},
   "outputs": [],
   "source": [
    "# with open('../models/linreg.bin', 'wb') as f_out:\n",
    "#     pickle.dump((dv, lr), f_out)"
   ]
  },
  {
   "cell_type": "code",
   "execution_count": 33,
   "metadata": {},
   "outputs": [
    {
     "data": {
      "text/plain": [
       "((61921,), (73908,))"
      ]
     },
     "execution_count": 33,
     "metadata": {},
     "output_type": "execute_result"
    }
   ],
   "source": [
    "Y_eval.shape, y_pred.shape"
   ]
  },
  {
   "cell_type": "code",
   "execution_count": 61,
   "metadata": {},
   "outputs": [],
   "source": [
    "with mlflow.start_run():\n",
    "    mlflow.set_tag(\"developer\", \"warrie\")\n",
    "    \n",
    "    mlflow.log_param(\"train-data-path\", green_trip_data_Jan_2021)\n",
    "    mlflow.log_param(\"eval-data-path\", green_trip_data_Feb_2021)\n",
    "\n",
    "\n",
    "    alpha = 0.01\n",
    "    mlflow.log_param(\"alpha\", alpha)\n",
    "    \n",
    "    lr_lasso = Lasso(alpha)\n",
    "    lr_lasso.fit(X_train , Y_train)\n",
    "\n",
    "    y_pred = lr_lasso.predict(X_eval)\n",
    "\n",
    "    rmse= mean_squared_error(Y_eval, y_pred, squared=False)\n",
    "    mlflow.log_metric(\"rmse\", rmse)\n",
    "\n",
    "    mlflow.log_artifact(local_path='../models/linreg.bin')"
   ]
  },
  {
   "cell_type": "code",
   "execution_count": 38,
   "metadata": {},
   "outputs": [
    {
     "name": "stderr",
     "output_type": "stream",
     "text": [
      "/Users/dsn/opt/anaconda3/envs/mlops/lib/python3.9/site-packages/xgboost/compat.py:36: FutureWarning: pandas.Int64Index is deprecated and will be removed from pandas in a future version. Use pandas.Index with the appropriate dtype instead.\n",
      "  from pandas import MultiIndex, Int64Index\n"
     ]
    }
   ],
   "source": [
    "# Using xgboost in logging parameters:\n",
    "\n",
    "import xgboost as xgb\n",
    "from hyperopt import fmin, tpe, hp, STATUS_OK, Trials\n",
    "from hyperopt.pyll import scope"
   ]
  },
  {
   "cell_type": "code",
   "execution_count": 44,
   "metadata": {},
   "outputs": [],
   "source": [
    "train = xgb.DMatrix(X_train, label=Y_train)\n",
    "valid = xgb.DMatrix(X_eval, label=Y_eval)"
   ]
  },
  {
   "cell_type": "code",
   "execution_count": null,
   "metadata": {},
   "outputs": [],
   "source": [
    "def objective(params):\n",
    "\n",
    "    with mlflow.start_run():\n",
    "        mlflow.set_tag(\"model\",  \"xgboost\")\n",
    "        mlflow.log_params(params)\n",
    "        booster = xgb.train(\n",
    "            params=params,\n",
    "            dtrain=train,\n",
    "            num_boost_round =1000,\n",
    "            evals =[(valid ,\"validation\")],\n",
    "            early_stopping_rounds =50\n",
    "\n",
    "        )\n",
    "\n",
    "        y_pred = booster.predict(valid)\n",
    "        rmse=mean_squared_error(Y_eval, y_pred, squared=False)\n",
    "        mlflow.log_metric(\"rmse\", rmse)\n",
    "\n",
    "    return{'loss': rmse, 'status':STATUS_OK}\n",
    "\n",
    "search_space ={\n",
    "\n",
    "    \"max_depth\": scope.int(hp.quniform('max_depth',4,100,1)),\n",
    "    \"learning_rate\": hp.loguniform('learning_rate', -3, 0),\n",
    "    \"reg_alpha\": hp.loguniform(\"reg_alpha\", -5,-1),\n",
    "    \"reg_lambda\": hp.loguniform(\"reg_lambda\", -6, -1),\n",
    "    \"min_cjild_weight\": hp.loguniform('min_child_weight', -1, 3),\n",
    "    \"objective\": 'reg:linear',\n",
    "    'seed': 42\n",
    "}\n",
    "\n",
    "best_result  = fmin(\n",
    "    fn=objective,\n",
    "    space=search_space,\n",
    "    algo = tpe.suggest,\n",
    "    max_evals=50,\n",
    "    trials=Trials()\n",
    ")"
   ]
  },
  {
   "cell_type": "code",
   "execution_count": null,
   "metadata": {},
   "outputs": [],
   "source": [
    "\n",
    "params ={\n",
    "    'learning_rate':\t0.050492944008818104,\n",
    "        'max_depth'\t:4,\n",
    "        'min_child_weight'\t:2.287940332571657,\n",
    "        'objective':\t'reg:linear',\n",
    "        'reg_alpha':\t0.03134130292019771,\n",
    "        'reg_lambda':\t0.006582082224902776,\n",
    "        'seed':\t42\n",
    "}\n",
    "\n",
    "mlflow.xgboost.autolog()\n",
    "with mlflow.start_run():\n",
    "#     mlflow.set_tag()\n",
    "#     mlflow.log_param()\n",
    "    \n",
    "    booster = xgb.train(\n",
    "                params=params,\n",
    "                dtrain=train,\n",
    "                num_boost_round =1000,\n",
    "                evals =[(valid ,\"validation\")],\n",
    "                early_stopping_rounds =50\n",
    "    )\n",
    "\n"
   ]
  },
  {
   "cell_type": "code",
   "execution_count": 65,
   "metadata": {},
   "outputs": [],
   "source": [
    "mlflow.xgboost.autolog(disable=True)"
   ]
  },
  {
   "cell_type": "code",
   "execution_count": 68,
   "metadata": {},
   "outputs": [
    {
     "name": "stdout",
     "output_type": "stream",
     "text": [
      "[22:43:18] WARNING: ../src/objective/regression_obj.cu:188: reg:linear is now deprecated in favor of reg:squarederror.\n",
      "[0]\tvalidation-rmse:20.29694\n",
      "[1]\tvalidation-rmse:19.45103\n",
      "[2]\tvalidation-rmse:18.65185\n",
      "[3]\tvalidation-rmse:17.89769\n",
      "[4]\tvalidation-rmse:17.18630\n",
      "[5]\tvalidation-rmse:16.51530\n",
      "[6]\tvalidation-rmse:15.88263\n",
      "[7]\tvalidation-rmse:15.28688\n",
      "[8]\tvalidation-rmse:14.72630\n",
      "[9]\tvalidation-rmse:14.19811\n",
      "[10]\tvalidation-rmse:13.70389\n",
      "[11]\tvalidation-rmse:13.23729\n",
      "[12]\tvalidation-rmse:12.79978\n",
      "[13]\tvalidation-rmse:12.38939\n",
      "[14]\tvalidation-rmse:12.00713\n",
      "[15]\tvalidation-rmse:11.64665\n",
      "[16]\tvalidation-rmse:11.30872\n",
      "[17]\tvalidation-rmse:10.99427\n",
      "[18]\tvalidation-rmse:10.70150\n",
      "[19]\tvalidation-rmse:10.42771\n",
      "[20]\tvalidation-rmse:10.17292\n",
      "[21]\tvalidation-rmse:9.93377\n",
      "[22]\tvalidation-rmse:9.71044\n",
      "[23]\tvalidation-rmse:9.50350\n",
      "[24]\tvalidation-rmse:9.31017\n",
      "[25]\tvalidation-rmse:9.13132\n",
      "[26]\tvalidation-rmse:8.96399\n",
      "[27]\tvalidation-rmse:8.80866\n",
      "[28]\tvalidation-rmse:8.66515\n",
      "[29]\tvalidation-rmse:8.53185\n",
      "[30]\tvalidation-rmse:8.40829\n",
      "[31]\tvalidation-rmse:8.29376\n",
      "[32]\tvalidation-rmse:8.18788\n",
      "[33]\tvalidation-rmse:8.08980\n",
      "[34]\tvalidation-rmse:7.99846\n",
      "[35]\tvalidation-rmse:7.91404\n",
      "[36]\tvalidation-rmse:7.83701\n",
      "[37]\tvalidation-rmse:7.76461\n",
      "[38]\tvalidation-rmse:7.69797\n",
      "[39]\tvalidation-rmse:7.63662\n",
      "[40]\tvalidation-rmse:7.57975\n",
      "[41]\tvalidation-rmse:7.52693\n",
      "[42]\tvalidation-rmse:7.47818\n",
      "[43]\tvalidation-rmse:7.43287\n",
      "[44]\tvalidation-rmse:7.39132\n",
      "[45]\tvalidation-rmse:7.35262\n",
      "[46]\tvalidation-rmse:7.31595\n",
      "[47]\tvalidation-rmse:7.28217\n",
      "[48]\tvalidation-rmse:7.25141\n",
      "[49]\tvalidation-rmse:7.22294\n",
      "[50]\tvalidation-rmse:7.19588\n",
      "[51]\tvalidation-rmse:7.17137\n",
      "[52]\tvalidation-rmse:7.14788\n",
      "[53]\tvalidation-rmse:7.12726\n",
      "[54]\tvalidation-rmse:7.10733\n",
      "[55]\tvalidation-rmse:7.08898\n",
      "[56]\tvalidation-rmse:7.07246\n",
      "[57]\tvalidation-rmse:7.05791\n",
      "[58]\tvalidation-rmse:7.04507\n",
      "[59]\tvalidation-rmse:7.03147\n",
      "[60]\tvalidation-rmse:7.02006\n",
      "[61]\tvalidation-rmse:7.00917\n",
      "[62]\tvalidation-rmse:6.99734\n",
      "[63]\tvalidation-rmse:6.98770\n",
      "[64]\tvalidation-rmse:6.97942\n",
      "[65]\tvalidation-rmse:6.97084\n",
      "[66]\tvalidation-rmse:6.96314\n",
      "[67]\tvalidation-rmse:6.95517\n",
      "[68]\tvalidation-rmse:6.94915\n",
      "[69]\tvalidation-rmse:6.94273\n",
      "[70]\tvalidation-rmse:6.93688\n",
      "[71]\tvalidation-rmse:6.93027\n",
      "[72]\tvalidation-rmse:6.92576\n",
      "[73]\tvalidation-rmse:6.92100\n",
      "[74]\tvalidation-rmse:6.91640\n",
      "[75]\tvalidation-rmse:6.91221\n",
      "[76]\tvalidation-rmse:6.90745\n",
      "[77]\tvalidation-rmse:6.90327\n",
      "[78]\tvalidation-rmse:6.90057\n",
      "[79]\tvalidation-rmse:6.89834\n",
      "[80]\tvalidation-rmse:6.89465\n",
      "[81]\tvalidation-rmse:6.89169\n",
      "[82]\tvalidation-rmse:6.88849\n",
      "[83]\tvalidation-rmse:6.88651\n",
      "[84]\tvalidation-rmse:6.88510\n",
      "[85]\tvalidation-rmse:6.88404\n",
      "[86]\tvalidation-rmse:6.88187\n",
      "[87]\tvalidation-rmse:6.88054\n",
      "[88]\tvalidation-rmse:6.87811\n",
      "[89]\tvalidation-rmse:6.87691\n",
      "[90]\tvalidation-rmse:6.87461\n",
      "[91]\tvalidation-rmse:6.87389\n",
      "[92]\tvalidation-rmse:6.87336\n",
      "[93]\tvalidation-rmse:6.87264\n",
      "[94]\tvalidation-rmse:6.87121\n",
      "[95]\tvalidation-rmse:6.87032\n",
      "[96]\tvalidation-rmse:6.87037\n",
      "[97]\tvalidation-rmse:6.86982\n",
      "[98]\tvalidation-rmse:6.86897\n",
      "[99]\tvalidation-rmse:6.86904\n",
      "[100]\tvalidation-rmse:6.86846\n",
      "[101]\tvalidation-rmse:6.86838\n",
      "[102]\tvalidation-rmse:6.86829\n",
      "[103]\tvalidation-rmse:6.86820\n",
      "[104]\tvalidation-rmse:6.86818\n",
      "[105]\tvalidation-rmse:6.86798\n",
      "[106]\tvalidation-rmse:6.86764\n",
      "[107]\tvalidation-rmse:6.86753\n",
      "[108]\tvalidation-rmse:6.86746\n",
      "[109]\tvalidation-rmse:6.86691\n",
      "[110]\tvalidation-rmse:6.86690\n",
      "[111]\tvalidation-rmse:6.86707\n",
      "[112]\tvalidation-rmse:6.86635\n",
      "[113]\tvalidation-rmse:6.86663\n",
      "[114]\tvalidation-rmse:6.86668\n",
      "[115]\tvalidation-rmse:6.86674\n",
      "[116]\tvalidation-rmse:6.86662\n",
      "[117]\tvalidation-rmse:6.86625\n",
      "[118]\tvalidation-rmse:6.86711\n",
      "[119]\tvalidation-rmse:6.86699\n",
      "[120]\tvalidation-rmse:6.86718\n",
      "[121]\tvalidation-rmse:6.86720\n",
      "[122]\tvalidation-rmse:6.86743\n",
      "[123]\tvalidation-rmse:6.86823\n",
      "[124]\tvalidation-rmse:6.86810\n",
      "[125]\tvalidation-rmse:6.86837\n",
      "[126]\tvalidation-rmse:6.86794\n",
      "[127]\tvalidation-rmse:6.86810\n",
      "[128]\tvalidation-rmse:6.86817\n",
      "[129]\tvalidation-rmse:6.86829\n",
      "[130]\tvalidation-rmse:6.86814\n",
      "[131]\tvalidation-rmse:6.86811\n",
      "[132]\tvalidation-rmse:6.86901\n",
      "[133]\tvalidation-rmse:6.86939\n",
      "[134]\tvalidation-rmse:6.86970\n",
      "[135]\tvalidation-rmse:6.87032\n",
      "[136]\tvalidation-rmse:6.87052\n",
      "[137]\tvalidation-rmse:6.86998\n",
      "[138]\tvalidation-rmse:6.86993\n",
      "[139]\tvalidation-rmse:6.87040\n",
      "[140]\tvalidation-rmse:6.87095\n",
      "[141]\tvalidation-rmse:6.87131\n",
      "[142]\tvalidation-rmse:6.87145\n",
      "[143]\tvalidation-rmse:6.87186\n",
      "[144]\tvalidation-rmse:6.87224\n",
      "[145]\tvalidation-rmse:6.87264\n",
      "[146]\tvalidation-rmse:6.87343\n",
      "[147]\tvalidation-rmse:6.87356\n",
      "[148]\tvalidation-rmse:6.87401\n",
      "[149]\tvalidation-rmse:6.87425\n",
      "[150]\tvalidation-rmse:6.87461\n",
      "[151]\tvalidation-rmse:6.87462\n",
      "[152]\tvalidation-rmse:6.87500\n",
      "[153]\tvalidation-rmse:6.87574\n",
      "[154]\tvalidation-rmse:6.87579\n",
      "[155]\tvalidation-rmse:6.87622\n",
      "[156]\tvalidation-rmse:6.87679\n",
      "[157]\tvalidation-rmse:6.87698\n",
      "[158]\tvalidation-rmse:6.87715\n",
      "[159]\tvalidation-rmse:6.87706\n",
      "[160]\tvalidation-rmse:6.87723\n",
      "[161]\tvalidation-rmse:6.87772\n",
      "[162]\tvalidation-rmse:6.87816\n",
      "[163]\tvalidation-rmse:6.87873\n",
      "[164]\tvalidation-rmse:6.87890\n",
      "[165]\tvalidation-rmse:6.87861\n",
      "[166]\tvalidation-rmse:6.87901\n",
      "[167]\tvalidation-rmse:6.87948\n"
     ]
    }
   ],
   "source": [
    "# second way of logging models\n",
    "with mlflow.start_run():\n",
    "\n",
    "    best_params ={\n",
    "        'learning_rate':\t0.050492944008818104,\n",
    "            'max_depth'\t:4,\n",
    "            'min_child_weight'\t:2.287940332571657,\n",
    "            'objective':\t'reg:linear',\n",
    "            'reg_alpha':\t0.03134130292019771,\n",
    "            'reg_lambda':\t0.006582082224902776,\n",
    "            'seed':\t42\n",
    "    }\n",
    "\n",
    "\n",
    "    mlflow.log_params(best_params)\n",
    "    booster = xgb.train(\n",
    "                params=params,\n",
    "                dtrain=train,\n",
    "                num_boost_round =1000,\n",
    "                evals =[(valid ,\"validation\")],\n",
    "                early_stopping_rounds =50\n",
    "    )\n",
    "    \n",
    "    y_pred = booster.predict(valid)\n",
    "    rmse = mean_squared_error(Y_eval, y_pred, squared=False)\n",
    "    mlflow.log_metric(\"rmse\", rmse)\n",
    "\n",
    "    with open(\"../models/preprocessor.b\", \"wb\") as f_out:\n",
    "        pickle.dump(dv, f_out)\n",
    "\n",
    "    mlflow.log_artifact(\"../models/preprocessor.b\", artifact_path=\"preprocessor\")\n",
    "\n",
    "\n",
    "    mlflow.xgboost.log_model(booster, artifact_path='models_mlflow')\n",
    "\n",
    "\n"
   ]
  },
  {
   "cell_type": "code",
   "execution_count": 66,
   "metadata": {},
   "outputs": [
    {
     "data": {
      "text/plain": [
       "DictVectorizer()"
      ]
     },
     "execution_count": 66,
     "metadata": {},
     "output_type": "execute_result"
    }
   ],
   "source": [
    "dv"
   ]
  },
  {
   "cell_type": "code",
   "execution_count": 71,
   "metadata": {},
   "outputs": [
    {
     "name": "stdout",
     "output_type": "stream",
     "text": [
      "[22:50:38] WARNING: ../src/objective/regression_obj.cu:188: reg:linear is now deprecated in favor of reg:squarederror.\n"
     ]
    }
   ],
   "source": [
    "\n",
    "logged_model = 'runs:/0b8aa72bdf694b5285a2ad5c1a848091/models_mlflow'\n",
    "\n",
    "# Load model as a PyFuncModel.\n",
    "loaded_model = mlflow.pyfunc.load_model(logged_model)\n",
    "\n",
    "\n",
    "\n",
    "# loaded_model.predict(pd.DataFrame(data))"
   ]
  },
  {
   "cell_type": "code",
   "execution_count": 73,
   "metadata": {},
   "outputs": [
    {
     "data": {
      "text/plain": [
       "mlflow.pyfunc.loaded_model:\n",
       "  artifact_path: models_mlflow\n",
       "  flavor: mlflow.xgboost\n",
       "  run_id: 0b8aa72bdf694b5285a2ad5c1a848091"
      ]
     },
     "execution_count": 73,
     "metadata": {},
     "output_type": "execute_result"
    }
   ],
   "source": [
    "loaded_model"
   ]
  },
  {
   "cell_type": "code",
   "execution_count": 74,
   "metadata": {},
   "outputs": [
    {
     "name": "stdout",
     "output_type": "stream",
     "text": [
      "[22:52:01] WARNING: ../src/objective/regression_obj.cu:188: reg:linear is now deprecated in favor of reg:squarederror.\n"
     ]
    }
   ],
   "source": [
    "xgboost_model = mlflow.xgboost.load_model(logged_model)"
   ]
  },
  {
   "cell_type": "code",
   "execution_count": 77,
   "metadata": {},
   "outputs": [
    {
     "data": {
      "text/plain": [
       "array([17.975735 ,  7.1397743, 21.053053 , 24.254833 , 10.949154 ,\n",
       "       16.876991 , 13.757508 ,  9.674001 ,  8.705003 , 19.328863 ],\n",
       "      dtype=float32)"
      ]
     },
     "execution_count": 77,
     "metadata": {},
     "output_type": "execute_result"
    }
   ],
   "source": [
    "# xgboost_model\n",
    "y_pred[:10]"
   ]
  },
  {
   "cell_type": "code",
   "execution_count": null,
   "metadata": {},
   "outputs": [],
   "source": []
  }
 ],
 "metadata": {
  "interpreter": {
   "hash": "97d797269bacb7cbfdd9fa1be1056b685fb0610a96b8027856e4dc09ccf10782"
  },
  "kernelspec": {
   "display_name": "Python 3.9.7 ('mlops')",
   "language": "python",
   "name": "python3"
  },
  "language_info": {
   "codemirror_mode": {
    "name": "ipython",
    "version": 3
   },
   "file_extension": ".py",
   "mimetype": "text/x-python",
   "name": "python",
   "nbconvert_exporter": "python",
   "pygments_lexer": "ipython3",
   "version": "3.9.12"
  },
  "orig_nbformat": 4
 },
 "nbformat": 4,
 "nbformat_minor": 2
}
